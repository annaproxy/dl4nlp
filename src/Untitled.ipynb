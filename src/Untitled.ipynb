{
 "cells": [
  {
   "cell_type": "code",
   "execution_count": 19,
   "metadata": {},
   "outputs": [
    {
     "name": "stdout",
     "output_type": "stream",
     "text": [
      "\n"
     ]
    }
   ],
   "source": [
    "import pandas as pd\n",
    "# make sure you rename the first column to \"lang\", i have yet to automatically do this\n",
    "df = pd.read_csv('./classification_report_baseline.csv', delimiter=',')\n",
    "\n",
    "lang_dict = {}\n",
    "fam_dict = {}\n",
    "alphabet_dict = {}\n",
    "\n",
    "with open('./gpt-2-LI/data/wili-2018/labels.csv', 'r') as f:\n",
    "    for line in f.readlines():\n",
    "        s = line.split(';')\n",
    "        code = s[0]\n",
    "        lang_dict[code] = s[1]\n",
    "        fam_dict[code] = s[5]\n",
    "        alphabet_dict[code] = s[6]\n",
    "\n",
    "\n",
    "df['language'] = df['lang'].map(lang_dict)\n",
    "df['fam'] = df['lang'].map(fam_dict)\n",
    "df['alphabet'] = df['lang'].map(alphabet_dict)\n",
    "\n",
    "#with pd.option_context('display.max_rows', None):\n",
    "lowest_prec = df.sort_values('precision')[['language', 'precision' ]][:40]\n",
    "lowest_rec = df.sort_values('recall')[['language', 'recall']][:40]\n",
    "lowest_f1 = df.sort_values('f1-score')[['language', 'f1-score' ]][:40]\n",
    "\n",
    "print()\n",
    "\n"
   ]
  },
  {
   "cell_type": "code",
   "execution_count": 22,
   "metadata": {},
   "outputs": [
    {
     "name": "stdout",
     "output_type": "stream",
     "text": [
      "                       language  precision\n",
      "73               Serbo-Croatian   0.363636\n",
      "50                      English   0.394958\n",
      "23                      Bosnian   0.430464\n",
      "86                   Indonesian   0.434211\n",
      "29                    Chavacano   0.442857\n",
      "77                     Croatian   0.482143\n",
      "137                       Malay   0.506173\n",
      "181                       Scots   0.515385\n",
      "161                    Pampanga   0.536424\n",
      "148      Nepali (macrolanguage)   0.568750\n",
      "152                      Bokmål   0.592308\n",
      "58                       French   0.604317\n",
      "165         Pennsylvania German   0.660714\n",
      "111                       Latin   0.680328\n",
      "18                   Belarusian   0.680672\n",
      "2              Alemannic German   0.680672\n",
      "204                       Tetum   0.689320\n",
      "75                   Fiji Hindi   0.690476\n",
      "190                     Spanish   0.693878\n",
      "164                      Picard   0.699029\n",
      "206                     Tagalog   0.703125\n",
      "151           Norwegian Nynorsk   0.705263\n",
      "21                       Banjar   0.707071\n",
      "54                 Extremaduran   0.712000\n",
      "102                Komi-Permyak   0.724771\n",
      "126                  Banyumasan   0.725490\n",
      "10                         Avar   0.726415\n",
      "150                       Dutch   0.726496\n",
      "104                        Komi   0.728972\n",
      "88                      Italian   0.729730\n",
      "140                       Erzya   0.730769\n",
      "15                     Bavarian   0.747573\n",
      "6                     Aragonese   0.759259\n",
      "47                       Doteli   0.760000\n",
      "119               Northern Luri   0.760684\n",
      "43                       German   0.764706\n",
      "17   Belarusian (Taraschkewiza)   0.769231\n",
      "90                     Javanese   0.773585\n",
      "109                      Ladino   0.780702\n",
      "85                  Interlingua   0.781250\n"
     ]
    }
   ],
   "source": [
    "import seaborn as sns\n",
    "\n",
    "#sns.set_theme(style=\"whitegrid\")\n",
    "\n",
    "tips = sns.load_dataset(\"tips\")\n",
    "print(lowest_prec)\n"
   ]
  },
  {
   "cell_type": "code",
   "execution_count": null,
   "metadata": {},
   "outputs": [],
   "source": []
  }
 ],
 "metadata": {
  "kernelspec": {
   "display_name": "Python 3",
   "language": "python",
   "name": "python3"
  },
  "language_info": {
   "codemirror_mode": {
    "name": "ipython",
    "version": 3
   },
   "file_extension": ".py",
   "mimetype": "text/x-python",
   "name": "python",
   "nbconvert_exporter": "python",
   "pygments_lexer": "ipython3",
   "version": "3.7.3"
  }
 },
 "nbformat": 4,
 "nbformat_minor": 4
}
